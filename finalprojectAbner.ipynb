{
 "cells": [
  {
   "cell_type": "markdown",
   "id": "20622d34-375c-4d5f-9257-a79ea6046e4c",
   "metadata": {},
   "source": [
    "Obteniendo mi certificación\n"
   ]
  },
  {
   "cell_type": "markdown",
   "id": "43afcc52-73ea-41c2-ad4f-a0536145a7bc",
   "metadata": {},
   "source": [
    "introduction"
   ]
  },
  {
   "cell_type": "markdown",
   "id": "546fc642-23e5-4c1a-bcca-9d62df89edf0",
   "metadata": {},
   "source": [
    "-Python\n",
    "-R\n",
    "-sql\n",
    "-java"
   ]
  },
  {
   "cell_type": "markdown",
   "id": "e0a38e5b-b608-4511-b8af-b4a260c3ba15",
   "metadata": {},
   "source": [
    "\n",
    "-TensorFlow\n",
    "-TensorFlow\n",
    "-NumPy\n",
    "-SciPy \n",
    "-Pandas\n",
    "-Matplotlib \n",
    "-Keras\n",
    "-SciKit-Learn\n",
    "-PyTorch\n",
    "-Scrapy\n",
    "-BeautifulSoup\n",
    "-LightGBM\n",
    "-ELI5\n",
    "-Theano\n",
    "-NuPIC"
   ]
  },
  {
   "cell_type": "markdown",
   "id": "80ec0b37-f1ae-4792-b1f8-bf89558a70de",
   "metadata": {
    "tags": []
   },
   "source": [
    "## Herramientas de Ciencia de Datos\n",
    "\n",
    "A continuación, se presenta una tabla con algunas de las herramientas y tecnologías ampliamente utilizadas en el campo de la Ciencia de Datos:\n",
    "\n",
    "| Herramienta/Tecnología       | Descripción                                           |\n",
    "|------------------------------|-------------------------------------------------------|\n",
    "| **Jupyter Notebook**         | Entorno interactivo para la programación en Python.   |\n",
    "| **RStudio**                  | IDE popular para análisis y visualización en R.      |\n",
    "| **NumPy**                    | Biblioteca para computación numérica en Python.      |\n",
    "| **Pandas**                   | Estructuras de datos y análisis de datos en Python.  |\n",
    "| **Matplotlib**               | Creación de gráficos y visualizaciones en Python.    |\n",
    "| **Scikit-Learn**             | Librería de aprendizaje automático en Python.         |\n",
    "| **TensorFlow**               | Framework de aprendizaje automático de Google.       |\n",
    "| **PyTorch**                  | Framework de aprendizaje profundo de código abierto. |\n",
    "| **SQL**                      | Lenguaje de consulta estructurada para bases de datos.|\n",
    "| **Tableau**                  | Herramienta de visualización y análisis de datos.    |\n",
    "| **Hadoop**                   | Framework para procesamiento de datos distribuidos.  |\n",
    "| **Spark**                    | Plataforma para procesamiento de datos en clúster.   |\n",
    "\n"
   ]
  },
  {
   "cell_type": "markdown",
   "id": "5488b82b-2e83-483d-975a-740387414e43",
   "metadata": {},
   "source": [
    "## Ejemplos de Expresiones Aritméticas\n",
    "\n",
    "# Ejemplo de suma\n",
    "resultado = 5 + 3\n",
    "print(resultado)  # Esto imprimirá 8\n",
    "\n",
    "# Ejemplo de multiplicación\n",
    "resultado = 6 * 7\n",
    "print(resultado)  # Esto imprimirá 42\n",
    "\n",
    "# Ejemplo de resta\n",
    "resultado = 10 - 4\n",
    "print(resultado)  # Esto imprimirá 6\n"
   ]
  },
  {
   "cell_type": "code",
   "execution_count": 1,
   "id": "006a1bc4-43b9-4674-b10a-6cba5cba5927",
   "metadata": {
    "tags": []
   },
   "outputs": [
    {
     "name": "stdout",
     "output_type": "stream",
     "text": [
      "El resultado de la multiplicación es: 50\n",
      "El resultado de la suma es: 15\n"
     ]
    }
   ],
   "source": [
    "# Ejercicio 8: Multiplicación y Suma de Números\n",
    "\n",
    "# Definimos dos números\n",
    "numero1 = 10\n",
    "numero2 = 5\n",
    "\n",
    "# Realizamos la multiplicación\n",
    "resultado_multiplicacion = numero1 * numero2\n",
    "\n",
    "# Realizamos la suma\n",
    "resultado_suma = numero1 + numero2\n",
    "\n",
    "# Imprimimos los resultados\n",
    "print(\"El resultado de la multiplicación es:\", resultado_multiplicacion)\n",
    "print(\"El resultado de la suma es:\", resultado_suma)\n"
   ]
  },
  {
   "cell_type": "code",
   "execution_count": 2,
   "id": "c5a39555-c490-4531-bc7f-bf7d3411db83",
   "metadata": {
    "tags": []
   },
   "outputs": [
    {
     "name": "stdout",
     "output_type": "stream",
     "text": [
      "120 minutos equivalen a 2.0 horas\n"
     ]
    }
   ],
   "source": [
    "# Ejercicio 9: Conversión de Minutos a Horas\n",
    "\n",
    "# Definimos la cantidad de minutos\n",
    "minutos = 120\n",
    "\n",
    "# Realizamos la conversión a horas\n",
    "horas = minutos / 60\n",
    "\n",
    "# Imprimimos el resultado\n",
    "print(f\"{minutos} minutos equivalen a {horas} horas\")\n"
   ]
  },
  {
   "cell_type": "markdown",
   "id": "3503ffb5-9336-4fca-b80d-5f01d45e26da",
   "metadata": {},
   "source": [
    "## Objetivos del Proyecto\n",
    "\n",
    "En este proyecto, tenemos varios objetivos que deseamos lograr:\n",
    "\n",
    "1. **Crear un Cuaderno Interactivo:** Utilizaremos Jupyterlite Notebook para crear un cuaderno interactivo que combine texto explicativo y código ejecutable.\n",
    "\n",
    "2. **Presentar Conceptos de Ciencia de Datos:** A través de este cuaderno, presentaremos conceptos clave relacionados con la ciencia de datos, incluyendo herramientas, bibliotecas y ejemplos de expresiones aritméticas.\n",
    "\n",
    "3. **Demostrar Habilidades de Programación:** Mostraremos habilidades de programación en Python al realizar cálculos aritméticos y mostrar los resultados en el cuaderno.\n",
    "\n",
    "4. **Practicar la Documentación en Markdown:** Utilizaremos Markdown para estructurar y formatear nuestro cuaderno, lo que nos ayudará a comunicar nuestros conceptos de manera efectiva.\n",
    "\n",
    "5. **Compartir el Cuaderno:** Finalmente, compartiremos nuestro cuaderno a través de un enlace público en GitHub para que otros puedan acceder y revisar nuestro trabajo.\n",
    "\n",
    "Estos objetivos nos ayudarán a consolidar lo que hemos aprendido en este curso y demostrar nuestras habilidades en el campo de la ciencia de datos.\n"
   ]
  },
  {
   "cell_type": "markdown",
   "id": "d0229b8c-76e0-4c0e-86cd-a5d02469945f",
   "metadata": {},
   "source": [
    "## Autor del Cuaderno\n",
    "\n",
    "Este cuaderno ha sido creado por [Tu Nombre].\n",
    "\n",
    "[Tools for data science]\n",
    "[IBM]\n",
    "[14desep2023]\n"
   ]
  }
 ],
 "metadata": {
  "kernelspec": {
   "display_name": "Python",
   "language": "python",
   "name": "conda-env-python-py"
  },
  "language_info": {
   "codemirror_mode": {
    "name": "ipython",
    "version": 3
   },
   "file_extension": ".py",
   "mimetype": "text/x-python",
   "name": "python",
   "nbconvert_exporter": "python",
   "pygments_lexer": "ipython3",
   "version": "3.7.12"
  }
 },
 "nbformat": 4,
 "nbformat_minor": 5
}
