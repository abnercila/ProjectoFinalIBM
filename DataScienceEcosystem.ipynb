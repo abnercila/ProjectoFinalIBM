{
  "metadata": {
    "language_info": {
      "codemirror_mode": {
        "name": "python",
        "version": 3
      },
      "file_extension": ".py",
      "mimetype": "text/x-python",
      "name": "python",
      "nbconvert_exporter": "python",
      "pygments_lexer": "ipython3",
      "version": "3.8"
    },
    "kernelspec": {
      "name": "python",
      "display_name": "Python (Pyodide)",
      "language": "python"
    }
  },
  "nbformat_minor": 4,
  "nbformat": 4,
  "cells": [
    {
      "cell_type": "markdown",
      "source": "# Herramientas y Ecosistema de Ciencia de Datos",
      "metadata": {}
    },
    {
      "cell_type": "markdown",
      "source": "En este cuaderno, se resumen las Herramientas y el Ecosistema de Ciencia de Datos.\n\n**Objetivos:**\n- Listar los lenguajes populares para la Ciencia de Datos.\n- Enumerar bibliotecas comunes utilizadas en Ciencia de Datos.\n- Introducir herramientas clave para científicos de datos.\n- Mostrar ejemplos de expresiones aritméticas en Python.\n- Realizar operaciones aritméticas básicas en Python.\n",
      "metadata": {}
    },
    {
      "cell_type": "markdown",
      "source": "Some de los lenguajes populares que utilizan los científicos de datos son:\n1. Python\n2. R\n3. SQL\n",
      "metadata": {}
    },
    {
      "cell_type": "markdown",
      "source": "Algunas de las bibliotecas comúnmente utilizadas por los científicos de datos incluyen:\n1. NumPy\n2. pandas\n3. Matplotlib\n",
      "metadata": {}
    },
    {
      "cell_type": "markdown",
      "source": "| Herramientas de Ciencia de Datos |\n|----------------------------------|\n| Jupyter Notebook                 |\n| RStudio                          |\n| Visual Studio Code               |\n\n",
      "metadata": {}
    },
    {
      "cell_type": "markdown",
      "source": "A continuación, se muestran algunos ejemplos de evaluación de expresiones aritméticas en Python.\n",
      "metadata": {}
    },
    {
      "cell_type": "code",
      "source": "# Esta es una expresión aritmética simple para multiplicar y luego sumar números enteros.\nresultado = (3 * 4) + 5\nresultado\n",
      "metadata": {
        "trusted": true
      },
      "execution_count": 5,
      "outputs": [
        {
          "execution_count": 5,
          "output_type": "execute_result",
          "data": {
            "text/plain": "17"
          },
          "metadata": {}
        }
      ]
    },
    {
      "cell_type": "code",
      "source": "# Esto convertirá 200 minutos en horas dividiendo por 60.\nhoras = 200 / 60\nhoras\n",
      "metadata": {
        "trusted": true
      },
      "execution_count": 6,
      "outputs": [
        {
          "execution_count": 6,
          "output_type": "execute_result",
          "data": {
            "text/plain": "3.3333333333333335"
          },
          "metadata": {}
        }
      ]
    },
    {
      "cell_type": "markdown",
      "source": "## Autor\nABNEEER CID\n",
      "metadata": {}
    },
    {
      "cell_type": "code",
      "source": "",
      "metadata": {},
      "execution_count": null,
      "outputs": []
    }
  ]
}